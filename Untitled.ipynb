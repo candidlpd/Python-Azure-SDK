{
 "cells": [
  {
   "cell_type": "code",
   "execution_count": 11,
   "id": "cf76935a",
   "metadata": {},
   "outputs": [],
   "source": [
    "from azure.identity import *"
   ]
  },
  {
   "cell_type": "code",
   "execution_count": 4,
   "id": "c3d78490",
   "metadata": {},
   "outputs": [],
   "source": [
    "credential = AzureCliCredential()"
   ]
  },
  {
   "cell_type": "code",
   "execution_count": 5,
   "id": "f4e958e8",
   "metadata": {},
   "outputs": [],
   "source": [
    "credential = InteractiveBrowserCredential()"
   ]
  },
  {
   "cell_type": "code",
   "execution_count": 6,
   "id": "656ca131",
   "metadata": {},
   "outputs": [],
   "source": [
    "credential = VisualStudioCodeCredential()"
   ]
  },
  {
   "cell_type": "code",
   "execution_count": 7,
   "id": "8761fcd8",
   "metadata": {},
   "outputs": [],
   "source": [
    "credential = EnvironmentCredential()"
   ]
  },
  {
   "cell_type": "code",
   "execution_count": 13,
   "id": "c161596f",
   "metadata": {},
   "outputs": [],
   "source": [
    "credential = DefaultAzureCredential()"
   ]
  },
  {
   "cell_type": "code",
   "execution_count": null,
   "id": "214ee4ce",
   "metadata": {},
   "outputs": [],
   "source": []
  }
 ],
 "metadata": {
  "kernelspec": {
   "display_name": "Python 3 (ipykernel)",
   "language": "python",
   "name": "python3"
  },
  "language_info": {
   "codemirror_mode": {
    "name": "ipython",
    "version": 3
   },
   "file_extension": ".py",
   "mimetype": "text/x-python",
   "name": "python",
   "nbconvert_exporter": "python",
   "pygments_lexer": "ipython3",
   "version": "3.11.7"
  }
 },
 "nbformat": 4,
 "nbformat_minor": 5
}
